{
  "nbformat": 4,
  "nbformat_minor": 0,
  "metadata": {
    "colab": {
      "provenance": [],
      "authorship_tag": "ABX9TyMIyG/IIe7SHxhvhKGs3Njc",
      "include_colab_link": true
    },
    "kernelspec": {
      "name": "python3",
      "display_name": "Python 3"
    },
    "language_info": {
      "name": "python"
    }
  },
  "cells": [
    {
      "cell_type": "markdown",
      "metadata": {
        "id": "view-in-github",
        "colab_type": "text"
      },
      "source": [
        "<a href=\"https://colab.research.google.com/github/pranavvarshan25/MicroCourses-Python-tasks/blob/main/Number_Guessing.ipynb\" target=\"_parent\"><img src=\"https://colab.research.google.com/assets/colab-badge.svg\" alt=\"Open In Colab\"/></a>"
      ]
    },
    {
      "cell_type": "code",
      "execution_count": 1,
      "metadata": {
        "colab": {
          "base_uri": "https://localhost:8080/"
        },
        "id": "-mHyb-g6Fu1l",
        "outputId": "80403ceb-9bdf-4046-eb03-624615eba4c2"
      },
      "outputs": [
        {
          "output_type": "stream",
          "name": "stdout",
          "text": [
            "Welcome to the Number Guessing Game!\n",
            "So I have picked a number between 1 and 100.\n",
            "You have got 7 tries to guess it.\n",
            "Attempt 1/7: Guess the number :) : 5\n",
            "Too low!\n",
            "Attempt 2/7: Guess the number :) : 10\n",
            "Too low!\n",
            "Attempt 3/7: Guess the number :) : 100\n",
            "Too high!\n",
            "Attempt 4/7: Guess the number :) : 50\n",
            "Too low!\n",
            "Attempt 5/7: Guess the number :) : 75\n",
            "Too high!\n",
            "Attempt 6/7: Guess the number :) : 64\n",
            "Too low!\n",
            "Attempt 7/7: Guess the number :) : 70\n",
            "Too high!\n",
            "Sorry, you've used all your tries. Better luck next time. HaHa. The correct number is 69.\n"
          ]
        }
      ],
      "source": [
        "import random\n",
        "\n",
        "def number_guessing_game():\n",
        "    # Pick a random number between 1 and 100\n",
        "    number_to_guess = random.randint(1, 100)\n",
        "\n",
        "    # Number of tries\n",
        "    tries = 0\n",
        "    max_tries = 7\n",
        "\n",
        "    print(\"Welcome to the Number Guessing Game!\")\n",
        "    print(\"So I have picked a number between 1 and 100.\")\n",
        "    print(\"You have got 7 tries to guess it.\")\n",
        "\n",
        "    while tries < max_tries:\n",
        "        # Get user input\n",
        "        try:\n",
        "            guess = int(input(f\"Attempt {tries + 1}/{max_tries}: Guess the number :) : \"))\n",
        "        except ValueError:\n",
        "            print(\"Please enter a valid number i_i .\")\n",
        "            continue\n",
        "\n",
        "        tries += 1\n",
        "\n",
        "        # Check the guess\n",
        "        if guess < number_to_guess:\n",
        "            print(\"Too low!\")\n",
        "        elif guess > number_to_guess:\n",
        "            print(\"Too high!\")\n",
        "        else:\n",
        "            print(f\"Correct! You did it {number_to_guess}.\")\n",
        "            print(f\"Huh! You are better than me, LOL. You guessed it in {tries} tries!\")\n",
        "            break\n",
        "    else:\n",
        "        print(f\"Sorry, you've used all your tries. Better luck next time. HaHa. The correct number is {number_to_guess}.\")\n",
        "\n",
        "# Run the game\n",
        "number_guessing_game()"
      ]
    }
  ]
}