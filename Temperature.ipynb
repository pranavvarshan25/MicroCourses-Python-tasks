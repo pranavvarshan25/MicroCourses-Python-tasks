{
  "nbformat": 4,
  "nbformat_minor": 0,
  "metadata": {
    "colab": {
      "provenance": [],
      "authorship_tag": "ABX9TyMdBGAMIsSwqJ+d29AoRHZJ",
      "include_colab_link": true
    },
    "kernelspec": {
      "name": "python3",
      "display_name": "Python 3"
    },
    "language_info": {
      "name": "python"
    }
  },
  "cells": [
    {
      "cell_type": "markdown",
      "metadata": {
        "id": "view-in-github",
        "colab_type": "text"
      },
      "source": [
        "<a href=\"https://colab.research.google.com/github/pranavvarshan25/MicroCourses-Python-tasks/blob/main/Temperature.ipynb\" target=\"_parent\"><img src=\"https://colab.research.google.com/assets/colab-badge.svg\" alt=\"Open In Colab\"/></a>"
      ]
    },
    {
      "cell_type": "code",
      "execution_count": 2,
      "metadata": {
        "colab": {
          "base_uri": "https://localhost:8080/"
        },
        "id": "CqnQdEwRGOJv",
        "outputId": "09a260a5-568e-4839-d128-9997da3edc13"
      },
      "outputs": [
        {
          "output_type": "stream",
          "name": "stdout",
          "text": [
            "Welcome to the Temperature Converter!\n",
            "This tool helps you convert temperatures between Celsius, Fahrenheit, and Kelvin.\n",
            "Please Enter the temperature: 174\n",
            "Is it in Celsius, Fahrenheit, or Kelvin? (Enter 'C' for Celsius, 'F' for Fahrenheit, 'K' for Kelvin): K\n",
            "\n",
            "The conversion results are as follows:\n",
            "174.0 K = -99.15° Celsius | -146.47° Fahrenheit\n",
            "Do you want to convert another temperature? (yes/no): n\n",
            "\n",
            "Thank you for using the Temperature Converter!\n"
          ]
        }
      ],
      "source": [
        "def temperature_converter():\n",
        "    try:\n",
        "        print(\"Welcome to the Temperature Converter!\")\n",
        "        print(\"This tool helps you convert temperatures between Celsius, Fahrenheit, and Kelvin.\")\n",
        "\n",
        "        while True:\n",
        "            temp = float(input(\"Please Enter the temperature: \"))\n",
        "            unit = input(\"Is it in Celsius, Fahrenheit, or Kelvin? (Enter 'C' for Celsius, 'F' for Fahrenheit, 'K' for Kelvin): \").strip().upper()\n",
        "\n",
        "            print(\"\\nThe conversion results are as follows:\")\n",
        "\n",
        "            if unit == 'C':\n",
        "                converted_to_F = (temp * 9/5) + 32\n",
        "                converted_to_K = temp + 273.15\n",
        "                print(f\"{temp}° Celsius = {converted_to_F:.2f}° Fahrenheit | {converted_to_K:.2f} K\")\n",
        "            elif unit == 'F':\n",
        "                converted_to_C = (temp - 32) * 5/9\n",
        "                converted_to_K = converted_to_C + 273.15\n",
        "                print(f\"{temp}° Fahrenheit = {converted_to_C:.2f}° Celsius | {converted_to_K:.2f} K\")\n",
        "            elif unit == 'K':\n",
        "                converted_to_C = temp - 273.15\n",
        "                converted_to_F = (converted_to_C * 9/5) + 32\n",
        "                print(f\"{temp} K = {converted_to_C:.2f}° Celsius | {converted_to_F:.2f}° Fahrenheit\")\n",
        "            else:\n",
        "                print(\"Invalid choice. Please enter 'C' for Celsius, 'F' for Fahrenheit, or 'K' for Kelvin.\")\n",
        "\n",
        "            continue_choice = input(\"Do you want to convert another temperature? (yes/no): \").strip().lower()\n",
        "            if continue_choice != 'yes':\n",
        "                break\n",
        "\n",
        "        print(\"\\nThank you for using the Temperature Converter!\")\n",
        "    except ValueError:\n",
        "        print(\"Error: Invalid input. Please enter a valid numerical temperature.\")\n",
        "\n",
        "# Run the temperature converter\n",
        "temperature_converter()"
      ]
    }
  ]
}